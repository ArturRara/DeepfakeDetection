{
 "cells": [
  {
   "cell_type": "code",
   "execution_count": 8,
   "metadata": {},
   "outputs": [],
   "source": [
    "import torch\n",
    "import torch.nn as nn\n",
    "import torchvision\n",
    "from torch.utils.data import DataLoader\n",
    "from numpy.random import RandomState\n",
    "import os\n",
    "import cv2\n",
    "import numpy as np\n",
    "import pandas as pd\n",
    "from models.used_models import MesoNet\n",
    "from utils.data_loader import ImgDataset\n",
    "from torchvision.transforms import Normalize\n",
    "import torchvision.transforms as transforms"
   ]
  },
  {
   "cell_type": "code",
   "execution_count": 9,
   "metadata": {},
   "outputs": [],
   "source": [
    "def main():\n",
    "\tdevice = torch.device('cuda' if torch.cuda.is_available() else 'cpu')\n",
    "\ttorch.backends.cudnn.benchmark=True\n",
    "\t\n",
    "\tmetadata = pd.read_csv(r'C:\\Users\\MSI\\Downloads\\faceforensicsimages\\metadata.csv')\n",
    "\trng = RandomState()\n",
    "\ttrain_df = metadata.sample(frac=0.8, random_state=rng)\n",
    "\ttest_df = metadata.loc[~metadata.index.isin(train_df.index)]\n",
    "\t\n",
    "\ttrain_data = ImgDataset(metadata) #problem z indeksowaniem\n",
    "\tval_data = ImgDataset(test_df)\n",
    "\ttrain_loader = DataLoader(train_data, batch_size=8)\n",
    "\tval_loader = DataLoader(val_data, batch_size=8)\n",
    "\ttrain_dataset_size = len(train_df)  \n",
    "\tval_dataset_size = len(test_df)\n",
    "\n",
    "\tmodel = MesoNet()\n",
    "\tmodel = model.to(device)\n",
    "\toptimizer = torch.optim.Adam(model.parameters(), lr=0.001, betas=(0.9, 0.999), eps=1e-08)\n",
    "\tcriterion = nn.CrossEntropyLoss()\n",
    "\ttrain(5, model, optimizer,criterion, train_loader, val_loader, device,train_dataset_size, val_dataset_size )"
   ]
  },
  {
   "cell_type": "code",
   "execution_count": 10,
   "metadata": {},
   "outputs": [],
   "source": [
    "def train(epochs, model, optimizer,criterion, train_loader, val_loader, device,train_dataset_size,val_dataset_size):\n",
    "\n",
    "    best_model = model.state_dict()\n",
    "    best_acc = 0.0\n",
    "    train_loss =0.0\n",
    "    for epoch in range(epochs):\n",
    "        model=model.train()\n",
    "        running_loss = 0.0\n",
    "        \n",
    "        for batch, data in enumerate(train_loader):\n",
    "            \n",
    "            images = data[0]\n",
    "            labels = data[1]\n",
    "            images = images.to(device)\n",
    "            labels = labels.to(device)\n",
    "            images = images.view((-1,)+images.shape[2:])\n",
    "            labels = labels.view((-1,))\n",
    "            optimizer.zero_grad()\n",
    "\n",
    "            outputs = model(images)\n",
    "            loss = criterion(outputs, labels)\n",
    "            loss.backward()\n",
    "            optimizer.step()\n",
    "\n",
    "            running_loss = loss.data.item()\n",
    "            train_loss += running_loss\n",
    "            epoch_loss = train_loss / train_dataset_size \n",
    "            \n",
    "            print('epoch train loss: ',epoch_loss ,'butch nuber: ', batch)\n",
    "\n",
    "        best_model,best_acc = evaluate(model, val_loader, device, val_dataset_size, best_acc)\n",
    "        print(\"epoch: %d\"%(epoch))\n",
    "        torch.save(model.state_dict(), \"state_dict/epoch\"+str(epoch)+\".pkl\")\n",
    "    torch.save(best_model, './best.pkl')\n",
    "\n"
   ]
  },
  {
   "cell_type": "code",
   "execution_count": 11,
   "metadata": {},
   "outputs": [],
   "source": [
    "def evaluate(model, val_loader, device,val_dataset_size,best_acc):\n",
    "    model.eval()\n",
    "    val_corrects = 0.0\n",
    "    for batch, data in enumerate(val_loader):\n",
    "        with torch.no_grad():\n",
    "            images = data[0]\n",
    "            labels = data[1]\n",
    "            images = images.to(device)\n",
    "            labels = labels.to(device)\n",
    "            images = images.view((-1,)+images.shape[2:])\n",
    "            labels = labels.view((-1,))\n",
    "            \n",
    "            outputs = model(images)\n",
    "            _, preds = torch.max(outputs.data, 1)\n",
    "            val_corrects += torch.sum(preds == labels.data).to(torch.float32)\n",
    "        epoch_acc = val_corrects / val_dataset_size\n",
    "        if epoch_acc > best_acc:\n",
    "            best_acc = epoch_acc\n",
    "            best_model = model.state_dict()\n",
    "        print(\"epoch_acc - \", epoch_acc)\n",
    "    return best_model,best_acc\n",
    "    "
   ]
  },
  {
   "cell_type": "code",
   "execution_count": 12,
   "metadata": {},
   "outputs": [],
   "source": [
    "mean = [0.485, 0.456, 0.406]\n",
    "std = [0.229, 0.224, 0.225]\n",
    "normalize_transform = Normalize(mean, std)\n",
    "\n",
    "def load_images(filename, label):\n",
    "    images_PATH=r'C:\\Users\\MSI\\Downloads\\faceforensicsimages'\n",
    "    frames_path = os.path.join(images_PATH,label,filename[:-4]+'_frames')\n",
    "    #list = os.listdir(frames_path)\n",
    "    #frames_count = len(list)\n",
    "    i,j=0,0\n",
    "    X = torch.zeros((100, 3, 256, 256))\n",
    "    while i <100:\n",
    "        p = os.path.join(frames_path, filename[:-4]+'_img__'+str(j)+'.jpg')\n",
    "        img = cv2.imread(p)\n",
    "        if isinstance(img,type(None)):\n",
    "            j+=1\n",
    "            continue\n",
    "        img = torch.tensor(img).float()\n",
    "        img = img.permute(2,0,1)\n",
    "        img = normalize_transform(img/256)\n",
    "        X[i] = img\n",
    "        i+=1\n",
    "        j+=1\n",
    "    y = 0 if label=='original' else 1\n",
    "    y = torch.tensor([y]*100)\n",
    "    return X,  y"
   ]
  },
  {
   "cell_type": "code",
   "execution_count": 13,
   "metadata": {},
   "outputs": [],
   "source": [
    "from torch.utils.data import Dataset\n",
    "\n",
    "class ImgDataset(Dataset):\n",
    "    def __init__(self,df):\n",
    "        self.df = df\n",
    "        self.filename = df['filename']\n",
    "        self.labels = df['category']\n",
    "    def __getitem__(self, index):\n",
    "        x = self.filename[index]\n",
    "        y = self.labels[index]\n",
    "        return load_images(x, y)\n",
    "    def __len__(self):\n",
    "        return len(self.df)"
   ]
  },
  {
   "cell_type": "code",
   "execution_count": null,
   "metadata": {},
   "outputs": [],
   "source": [
    "if __name__ == '__main__':\n",
    "    main()"
   ]
  }
 ],
 "metadata": {
  "interpreter": {
   "hash": "ee6f022951eb6ed93b620ee25595bf1afceb274eb3637af1e721bcc987aa355b"
  },
  "kernelspec": {
   "display_name": "Python 3.7.6 64-bit ('base': conda)",
   "language": "python",
   "name": "python3"
  },
  "language_info": {
   "codemirror_mode": {
    "name": "ipython",
    "version": 3
   },
   "file_extension": ".py",
   "mimetype": "text/x-python",
   "name": "python",
   "nbconvert_exporter": "python",
   "pygments_lexer": "ipython3",
   "version": "3.9.7"
  },
  "orig_nbformat": 4
 },
 "nbformat": 4,
 "nbformat_minor": 2
}
